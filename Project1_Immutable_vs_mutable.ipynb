{
 "cells": [
  {
   "cell_type": "code",
   "execution_count": 5,
   "id": "f3c92755",
   "metadata": {},
   "outputs": [
    {
     "name": "stdout",
     "output_type": "stream",
     "text": [
      "a:1, b:3\n"
     ]
    }
   ],
   "source": [
    "# int\n",
    "a = 1\n",
    "b = a\n",
    "b = 3\n",
    "print (f\"a:{a}, b:{b}\")"
   ]
  },
  {
   "cell_type": "code",
   "execution_count": 6,
   "id": "c6bcf791",
   "metadata": {},
   "outputs": [
    {
     "name": "stdout",
     "output_type": "stream",
     "text": [
      "a:12.6, b:3.9\n"
     ]
    }
   ],
   "source": [
    "# float\n",
    "a = 12.6\n",
    "b = a\n",
    "b = 3.9\n",
    "print (f\"a:{a}, b:{b}\")"
   ]
  },
  {
   "cell_type": "code",
   "execution_count": 7,
   "id": "fc64c06c",
   "metadata": {},
   "outputs": [
    {
     "name": "stdout",
     "output_type": "stream",
     "text": [
      "a:Banana, b:Apple\n"
     ]
    }
   ],
   "source": [
    "# str\n",
    "a = \"Banana\"\n",
    "b = a\n",
    "b = \"Apple\"\n",
    "print (f\"a:{a}, b:{b}\")"
   ]
  },
  {
   "cell_type": "code",
   "execution_count": 8,
   "id": "4759a1dc",
   "metadata": {},
   "outputs": [
    {
     "name": "stdout",
     "output_type": "stream",
     "text": [
      "a:['ice', 'cola', 'beer', 'coffee'], b:['ice', 'cola', 'beer', 'coffee']\n",
      "a:['car', 'bike'], b:['ice', 'cola', 'beer', 'coffee']\n"
     ]
    }
   ],
   "source": [
    "# list\n",
    "a = [\"ice\",\"chocolate\",\"beer\",\"coffee\"]\n",
    "b = a\n",
    "b[1] = \"cola\"\n",
    "print (f\"a:{a}, b:{b}\")\n",
    "a = [\"car\", \"bike\"]\n",
    "print (f\"a:{a}, b:{b}\")"
   ]
  },
  {
   "cell_type": "code",
   "execution_count": 17,
   "id": "0f62acb9",
   "metadata": {
    "scrolled": true
   },
   "outputs": [
    {
     "name": "stdout",
     "output_type": "stream",
     "text": [
      "a:('ice', 'chocolate', 'beer', 'coffee'), b:('ice', 'chocolate', 'beer', 'coffee')\n",
      "a:('car', ['tram', 'airplane']), b:('ice', 'chocolate', 'beer', 'coffee')\n",
      "a:('car', ['subway', 'airplane']), b:('ice', 'chocolate', 'beer', 'coffee')\n"
     ]
    }
   ],
   "source": [
    "# tuple\n",
    "a = (\"ice\",\"chocolate\",\"beer\",\"coffee\")\n",
    "b = a\n",
    "# b[1] = \"cola\" -> TypeError, because tuples are immutable !\n",
    "print (f\"a:{a}, b:{b}\")\n",
    "c = [\"tram\",\"airplane\"]\n",
    "a = (\"car\", c)\n",
    "print (f\"a:{a}, b:{b}\")\n",
    "# change variable c\n",
    "c[0] = \"subway\"\n",
    "print (f\"a:{a}, b:{b}\")"
   ]
  },
  {
   "cell_type": "code",
   "execution_count": 15,
   "id": "776fbe13",
   "metadata": {},
   "outputs": [
    {
     "name": "stdout",
     "output_type": "stream",
     "text": [
      "a:{'beverage': 'beer', 'meal': 'schnitzel', 'price': 20}, b:{'beverage': 'beer', 'meal': 'schnitzel', 'price': 20}\n",
      "a:{'beverage': 'cola', 'meal': 'schnitzel', 'price': 20}, b:{'beverage': 'cola', 'meal': 'schnitzel', 'price': 20}\n",
      "a:{'animal': 'dog'}, b:{'beverage': 'cola', 'meal': 'schnitzel', 'price': 20}\n"
     ]
    }
   ],
   "source": [
    "# dict\n",
    "a = {\"beverage\": \"milk\", \"meal\": \"schnitzel\", \"price\": 20}\n",
    "b = a\n",
    "b[\"beverage\"] = \"beer\"\n",
    "print (f\"a:{a}, b:{b}\")\n",
    "a[\"beverage\"] = \"cola\"\n",
    "print (f\"a:{a}, b:{b}\") \n",
    "a = {\"animal\": \"dog\"}\n",
    "print (f\"a:{a}, b:{b}\")"
   ]
  },
  {
   "cell_type": "code",
   "execution_count": null,
   "id": "0a388e71",
   "metadata": {},
   "outputs": [],
   "source": []
  }
 ],
 "metadata": {
  "kernelspec": {
   "display_name": "Python 3 (ipykernel)",
   "language": "python",
   "name": "python3"
  },
  "language_info": {
   "codemirror_mode": {
    "name": "ipython",
    "version": 3
   },
   "file_extension": ".py",
   "mimetype": "text/x-python",
   "name": "python",
   "nbconvert_exporter": "python",
   "pygments_lexer": "ipython3",
   "version": "3.10.1"
  }
 },
 "nbformat": 4,
 "nbformat_minor": 5
}
